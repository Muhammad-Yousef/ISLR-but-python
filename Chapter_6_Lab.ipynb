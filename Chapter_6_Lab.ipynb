{
 "metadata": {
  "language_info": {
   "codemirror_mode": {
    "name": "ipython",
    "version": 3
   },
   "file_extension": ".py",
   "mimetype": "text/x-python",
   "name": "python",
   "nbconvert_exporter": "python",
   "pygments_lexer": "ipython3",
   "version": "3.8.5-final"
  },
  "orig_nbformat": 2,
  "kernelspec": {
   "name": "python3",
   "display_name": "Python 3",
   "language": "python"
  }
 },
 "nbformat": 4,
 "nbformat_minor": 2,
 "cells": [
  {
   "cell_type": "code",
   "execution_count": 2,
   "metadata": {},
   "outputs": [],
   "source": [
    "import pandas as pd\n",
    "import numpy as np"
   ]
  },
  {
   "source": [
    "### 6.5 Lab 1: Subset Selection Methods\n",
    "#### 6.5.1 Best Subset Selection\n",
    "Here we apply the best subset selection approach to the Hitters data. We\n",
    "wish to predict a baseball player’s Salary on the basis of various statistics\n",
    "associated with performance in the previous year.\n",
    "First of all, we note that the Salary variable is missing for some of the players."
   ],
   "cell_type": "markdown",
   "metadata": {}
  },
  {
   "cell_type": "code",
   "execution_count": 26,
   "metadata": {},
   "outputs": [
    {
     "output_type": "display_data",
     "data": {
      "text/plain": "\"Missing data in ['Salary']\""
     },
     "metadata": {}
    },
    {
     "output_type": "stream",
     "name": "stdout",
     "text": [
      "We are missing data for 59 players.\n"
     ]
    },
    {
     "output_type": "display_data",
     "data": {
      "text/plain": "       League Division NewLeague\ncount     263      263       263\nunique      2        2         2\ntop         A        W         A\nfreq      139      134       141",
      "text/html": "<div>\n<style scoped>\n    .dataframe tbody tr th:only-of-type {\n        vertical-align: middle;\n    }\n\n    .dataframe tbody tr th {\n        vertical-align: top;\n    }\n\n    .dataframe thead th {\n        text-align: right;\n    }\n</style>\n<table border=\"1\" class=\"dataframe\">\n  <thead>\n    <tr style=\"text-align: right;\">\n      <th></th>\n      <th>League</th>\n      <th>Division</th>\n      <th>NewLeague</th>\n    </tr>\n  </thead>\n  <tbody>\n    <tr>\n      <th>count</th>\n      <td>263</td>\n      <td>263</td>\n      <td>263</td>\n    </tr>\n    <tr>\n      <th>unique</th>\n      <td>2</td>\n      <td>2</td>\n      <td>2</td>\n    </tr>\n    <tr>\n      <th>top</th>\n      <td>A</td>\n      <td>W</td>\n      <td>A</td>\n    </tr>\n    <tr>\n      <th>freq</th>\n      <td>139</td>\n      <td>134</td>\n      <td>141</td>\n    </tr>\n  </tbody>\n</table>\n</div>"
     },
     "metadata": {}
    },
    {
     "output_type": "display_data",
     "data": {
      "text/plain": "            AtBat        Hits       HmRun        Runs         RBI       Walks  \\\ncount  263.000000  263.000000  263.000000  263.000000  263.000000  263.000000   \nmean   403.642586  107.828897   11.619772   54.745247   51.486692   41.114068   \nstd    147.307209   45.125326    8.757108   25.539816   25.882714   21.718056   \nmin     19.000000    1.000000    0.000000    0.000000    0.000000    0.000000   \n25%    282.500000   71.500000    5.000000   33.500000   30.000000   23.000000   \n50%    413.000000  103.000000    9.000000   52.000000   47.000000   37.000000   \n75%    526.000000  141.500000   18.000000   73.000000   71.000000   57.000000   \nmax    687.000000  238.000000   40.000000  130.000000  121.000000  105.000000   \n\n            Years        CAtBat        CHits      CHmRun        CRuns  \\\ncount  263.000000    263.000000   263.000000  263.000000   263.000000   \nmean     7.311787   2657.543726   722.186312   69.239544   361.220532   \nstd      4.793616   2286.582929   648.199644   82.197581   331.198571   \nmin      1.000000     19.000000     4.000000    0.000000     2.000000   \n25%      4.000000    842.500000   212.000000   15.000000   105.500000   \n50%      6.000000   1931.000000   516.000000   40.000000   250.000000   \n75%     10.000000   3890.500000  1054.000000   92.500000   497.500000   \nmax     24.000000  14053.000000  4256.000000  548.000000  2165.000000   \n\n              CRBI       CWalks      PutOuts     Assists      Errors  \\\ncount   263.000000   263.000000   263.000000  263.000000  263.000000   \nmean    330.418251   260.266160   290.711027  118.760456    8.593156   \nstd     323.367668   264.055868   279.934575  145.080577    6.606574   \nmin       3.000000     1.000000     0.000000    0.000000    0.000000   \n25%      95.000000    71.000000   113.500000    8.000000    3.000000   \n50%     230.000000   174.000000   224.000000   45.000000    7.000000   \n75%     424.500000   328.500000   322.500000  192.000000   13.000000   \nmax    1659.000000  1566.000000  1377.000000  492.000000   32.000000   \n\n            Salary  \ncount   263.000000  \nmean    535.925882  \nstd     451.118681  \nmin      67.500000  \n25%     190.000000  \n50%     425.000000  \n75%     750.000000  \nmax    2460.000000  ",
      "text/html": "<div>\n<style scoped>\n    .dataframe tbody tr th:only-of-type {\n        vertical-align: middle;\n    }\n\n    .dataframe tbody tr th {\n        vertical-align: top;\n    }\n\n    .dataframe thead th {\n        text-align: right;\n    }\n</style>\n<table border=\"1\" class=\"dataframe\">\n  <thead>\n    <tr style=\"text-align: right;\">\n      <th></th>\n      <th>AtBat</th>\n      <th>Hits</th>\n      <th>HmRun</th>\n      <th>Runs</th>\n      <th>RBI</th>\n      <th>Walks</th>\n      <th>Years</th>\n      <th>CAtBat</th>\n      <th>CHits</th>\n      <th>CHmRun</th>\n      <th>CRuns</th>\n      <th>CRBI</th>\n      <th>CWalks</th>\n      <th>PutOuts</th>\n      <th>Assists</th>\n      <th>Errors</th>\n      <th>Salary</th>\n    </tr>\n  </thead>\n  <tbody>\n    <tr>\n      <th>count</th>\n      <td>263.000000</td>\n      <td>263.000000</td>\n      <td>263.000000</td>\n      <td>263.000000</td>\n      <td>263.000000</td>\n      <td>263.000000</td>\n      <td>263.000000</td>\n      <td>263.000000</td>\n      <td>263.000000</td>\n      <td>263.000000</td>\n      <td>263.000000</td>\n      <td>263.000000</td>\n      <td>263.000000</td>\n      <td>263.000000</td>\n      <td>263.000000</td>\n      <td>263.000000</td>\n      <td>263.000000</td>\n    </tr>\n    <tr>\n      <th>mean</th>\n      <td>403.642586</td>\n      <td>107.828897</td>\n      <td>11.619772</td>\n      <td>54.745247</td>\n      <td>51.486692</td>\n      <td>41.114068</td>\n      <td>7.311787</td>\n      <td>2657.543726</td>\n      <td>722.186312</td>\n      <td>69.239544</td>\n      <td>361.220532</td>\n      <td>330.418251</td>\n      <td>260.266160</td>\n      <td>290.711027</td>\n      <td>118.760456</td>\n      <td>8.593156</td>\n      <td>535.925882</td>\n    </tr>\n    <tr>\n      <th>std</th>\n      <td>147.307209</td>\n      <td>45.125326</td>\n      <td>8.757108</td>\n      <td>25.539816</td>\n      <td>25.882714</td>\n      <td>21.718056</td>\n      <td>4.793616</td>\n      <td>2286.582929</td>\n      <td>648.199644</td>\n      <td>82.197581</td>\n      <td>331.198571</td>\n      <td>323.367668</td>\n      <td>264.055868</td>\n      <td>279.934575</td>\n      <td>145.080577</td>\n      <td>6.606574</td>\n      <td>451.118681</td>\n    </tr>\n    <tr>\n      <th>min</th>\n      <td>19.000000</td>\n      <td>1.000000</td>\n      <td>0.000000</td>\n      <td>0.000000</td>\n      <td>0.000000</td>\n      <td>0.000000</td>\n      <td>1.000000</td>\n      <td>19.000000</td>\n      <td>4.000000</td>\n      <td>0.000000</td>\n      <td>2.000000</td>\n      <td>3.000000</td>\n      <td>1.000000</td>\n      <td>0.000000</td>\n      <td>0.000000</td>\n      <td>0.000000</td>\n      <td>67.500000</td>\n    </tr>\n    <tr>\n      <th>25%</th>\n      <td>282.500000</td>\n      <td>71.500000</td>\n      <td>5.000000</td>\n      <td>33.500000</td>\n      <td>30.000000</td>\n      <td>23.000000</td>\n      <td>4.000000</td>\n      <td>842.500000</td>\n      <td>212.000000</td>\n      <td>15.000000</td>\n      <td>105.500000</td>\n      <td>95.000000</td>\n      <td>71.000000</td>\n      <td>113.500000</td>\n      <td>8.000000</td>\n      <td>3.000000</td>\n      <td>190.000000</td>\n    </tr>\n    <tr>\n      <th>50%</th>\n      <td>413.000000</td>\n      <td>103.000000</td>\n      <td>9.000000</td>\n      <td>52.000000</td>\n      <td>47.000000</td>\n      <td>37.000000</td>\n      <td>6.000000</td>\n      <td>1931.000000</td>\n      <td>516.000000</td>\n      <td>40.000000</td>\n      <td>250.000000</td>\n      <td>230.000000</td>\n      <td>174.000000</td>\n      <td>224.000000</td>\n      <td>45.000000</td>\n      <td>7.000000</td>\n      <td>425.000000</td>\n    </tr>\n    <tr>\n      <th>75%</th>\n      <td>526.000000</td>\n      <td>141.500000</td>\n      <td>18.000000</td>\n      <td>73.000000</td>\n      <td>71.000000</td>\n      <td>57.000000</td>\n      <td>10.000000</td>\n      <td>3890.500000</td>\n      <td>1054.000000</td>\n      <td>92.500000</td>\n      <td>497.500000</td>\n      <td>424.500000</td>\n      <td>328.500000</td>\n      <td>322.500000</td>\n      <td>192.000000</td>\n      <td>13.000000</td>\n      <td>750.000000</td>\n    </tr>\n    <tr>\n      <th>max</th>\n      <td>687.000000</td>\n      <td>238.000000</td>\n      <td>40.000000</td>\n      <td>130.000000</td>\n      <td>121.000000</td>\n      <td>105.000000</td>\n      <td>24.000000</td>\n      <td>14053.000000</td>\n      <td>4256.000000</td>\n      <td>548.000000</td>\n      <td>2165.000000</td>\n      <td>1659.000000</td>\n      <td>1566.000000</td>\n      <td>1377.000000</td>\n      <td>492.000000</td>\n      <td>32.000000</td>\n      <td>2460.000000</td>\n    </tr>\n  </tbody>\n</table>\n</div>"
     },
     "metadata": {}
    }
   ],
   "source": [
    "# Load dataset\n",
    "# We later want to fit using horsepower, so remove its rows with NA\n",
    "hitters = pd.read_csv('Data/Hitters.csv', index_col = 0)\n",
    "display(f\"Missing data in {hitters.columns[hitters.isna().any()].tolist()}\")\n",
    "num_missing = np.sum(hitters.Salary.isnull())\n",
    "print('We are missing Salary data for', num_missing, 'players.')\n",
    "# Drop these players\n",
    "hitters = hitters.dropna()\n",
    "display(hitters.describe(include = \"O\"))\n",
    "display(hitters.describe(include = [np.number]))"
   ]
  },
  {
   "source": [
    "Python doesn't have best subset selection so we need to write our own.\n",
    "We first encode categorical variables. Each categorical features have two levels, so we leave one binary for each, to avoid collinearity.\n",
    "We will be evauting our model results based on RSS score."
   ],
   "cell_type": "markdown",
   "metadata": {}
  },
  {
   "cell_type": "code",
   "execution_count": 45,
   "metadata": {},
   "outputs": [
    {
     "output_type": "display_data",
     "data": {
      "text/plain": "                   League  Division_W  NewLeague_N\n-Alan Ashby           1.0           1            1\n-Alvin Davis          0.0           1            0\n-Andre Dawson         1.0           0            1\n-Andres Galarraga     1.0           0            1\n-Alfredo Griffin      0.0           1            0",
      "text/html": "<div>\n<style scoped>\n    .dataframe tbody tr th:only-of-type {\n        vertical-align: middle;\n    }\n\n    .dataframe tbody tr th {\n        vertical-align: top;\n    }\n\n    .dataframe thead th {\n        text-align: right;\n    }\n</style>\n<table border=\"1\" class=\"dataframe\">\n  <thead>\n    <tr style=\"text-align: right;\">\n      <th></th>\n      <th>League</th>\n      <th>Division_W</th>\n      <th>NewLeague_N</th>\n    </tr>\n  </thead>\n  <tbody>\n    <tr>\n      <th>-Alan Ashby</th>\n      <td>1.0</td>\n      <td>1</td>\n      <td>1</td>\n    </tr>\n    <tr>\n      <th>-Alvin Davis</th>\n      <td>0.0</td>\n      <td>1</td>\n      <td>0</td>\n    </tr>\n    <tr>\n      <th>-Andre Dawson</th>\n      <td>1.0</td>\n      <td>0</td>\n      <td>1</td>\n    </tr>\n    <tr>\n      <th>-Andres Galarraga</th>\n      <td>1.0</td>\n      <td>0</td>\n      <td>1</td>\n    </tr>\n    <tr>\n      <th>-Alfredo Griffin</th>\n      <td>0.0</td>\n      <td>1</td>\n      <td>0</td>\n    </tr>\n  </tbody>\n</table>\n</div>"
     },
     "metadata": {}
    },
    {
     "output_type": "execute_result",
     "data": {
      "text/plain": [
       "                   AtBat  Hits  HmRun  Runs  RBI  Walks  Years  CAtBat  CHits  \\\n",
       "-Alan Ashby          315    81      7    24   38     39     14    3449    835   \n",
       "-Alvin Davis         479   130     18    66   72     76      3    1624    457   \n",
       "-Andre Dawson        496   141     20    65   78     37     11    5628   1575   \n",
       "-Andres Galarraga    321    87     10    39   42     30      2     396    101   \n",
       "-Alfredo Griffin     594   169      4    74   51     35     11    4408   1133   \n",
       "\n",
       "                   CHmRun  CRuns  CRBI  CWalks  PutOuts  Assists  Errors  \\\n",
       "-Alan Ashby            69    321   414     375      632       43      10   \n",
       "-Alvin Davis           63    224   266     263      880       82      14   \n",
       "-Andre Dawson         225    828   838     354      200       11       3   \n",
       "-Andres Galarraga      12     48    46      33      805       40       4   \n",
       "-Alfredo Griffin       19    501   336     194      282      421      25   \n",
       "\n",
       "                   Salary  League  Division  NewLeague  \n",
       "-Alan Ashby         475.0     1.0         1          1  \n",
       "-Alvin Davis        480.0     0.0         1          0  \n",
       "-Andre Dawson       500.0     1.0         0          1  \n",
       "-Andres Galarraga    91.5     1.0         0          1  \n",
       "-Alfredo Griffin    750.0     0.0         1          0  "
      ],
      "text/html": "<div>\n<style scoped>\n    .dataframe tbody tr th:only-of-type {\n        vertical-align: middle;\n    }\n\n    .dataframe tbody tr th {\n        vertical-align: top;\n    }\n\n    .dataframe thead th {\n        text-align: right;\n    }\n</style>\n<table border=\"1\" class=\"dataframe\">\n  <thead>\n    <tr style=\"text-align: right;\">\n      <th></th>\n      <th>AtBat</th>\n      <th>Hits</th>\n      <th>HmRun</th>\n      <th>Runs</th>\n      <th>RBI</th>\n      <th>Walks</th>\n      <th>Years</th>\n      <th>CAtBat</th>\n      <th>CHits</th>\n      <th>CHmRun</th>\n      <th>CRuns</th>\n      <th>CRBI</th>\n      <th>CWalks</th>\n      <th>PutOuts</th>\n      <th>Assists</th>\n      <th>Errors</th>\n      <th>Salary</th>\n      <th>League</th>\n      <th>Division</th>\n      <th>NewLeague</th>\n    </tr>\n  </thead>\n  <tbody>\n    <tr>\n      <th>-Alan Ashby</th>\n      <td>315</td>\n      <td>81</td>\n      <td>7</td>\n      <td>24</td>\n      <td>38</td>\n      <td>39</td>\n      <td>14</td>\n      <td>3449</td>\n      <td>835</td>\n      <td>69</td>\n      <td>321</td>\n      <td>414</td>\n      <td>375</td>\n      <td>632</td>\n      <td>43</td>\n      <td>10</td>\n      <td>475.0</td>\n      <td>1.0</td>\n      <td>1</td>\n      <td>1</td>\n    </tr>\n    <tr>\n      <th>-Alvin Davis</th>\n      <td>479</td>\n      <td>130</td>\n      <td>18</td>\n      <td>66</td>\n      <td>72</td>\n      <td>76</td>\n      <td>3</td>\n      <td>1624</td>\n      <td>457</td>\n      <td>63</td>\n      <td>224</td>\n      <td>266</td>\n      <td>263</td>\n      <td>880</td>\n      <td>82</td>\n      <td>14</td>\n      <td>480.0</td>\n      <td>0.0</td>\n      <td>1</td>\n      <td>0</td>\n    </tr>\n    <tr>\n      <th>-Andre Dawson</th>\n      <td>496</td>\n      <td>141</td>\n      <td>20</td>\n      <td>65</td>\n      <td>78</td>\n      <td>37</td>\n      <td>11</td>\n      <td>5628</td>\n      <td>1575</td>\n      <td>225</td>\n      <td>828</td>\n      <td>838</td>\n      <td>354</td>\n      <td>200</td>\n      <td>11</td>\n      <td>3</td>\n      <td>500.0</td>\n      <td>1.0</td>\n      <td>0</td>\n      <td>1</td>\n    </tr>\n    <tr>\n      <th>-Andres Galarraga</th>\n      <td>321</td>\n      <td>87</td>\n      <td>10</td>\n      <td>39</td>\n      <td>42</td>\n      <td>30</td>\n      <td>2</td>\n      <td>396</td>\n      <td>101</td>\n      <td>12</td>\n      <td>48</td>\n      <td>46</td>\n      <td>33</td>\n      <td>805</td>\n      <td>40</td>\n      <td>4</td>\n      <td>91.5</td>\n      <td>1.0</td>\n      <td>0</td>\n      <td>1</td>\n    </tr>\n    <tr>\n      <th>-Alfredo Griffin</th>\n      <td>594</td>\n      <td>169</td>\n      <td>4</td>\n      <td>74</td>\n      <td>51</td>\n      <td>35</td>\n      <td>11</td>\n      <td>4408</td>\n      <td>1133</td>\n      <td>19</td>\n      <td>501</td>\n      <td>336</td>\n      <td>194</td>\n      <td>282</td>\n      <td>421</td>\n      <td>25</td>\n      <td>750.0</td>\n      <td>0.0</td>\n      <td>1</td>\n      <td>0</td>\n    </tr>\n  </tbody>\n</table>\n</div>"
     },
     "metadata": {},
     "execution_count": 45
    }
   ],
   "source": [
    "dummies = pd.get_dummies(hitters[['League', 'Division', 'NewLeague']], drop_first=True)\n",
    "display(dummies.head())\n",
    "\n",
    "hitters.drop(labels=['League', 'Division', 'NewLeague'], axis=\"columns\", inplace=True)\n",
    "hitters[['League', 'Division', 'NewLeague']] = dummies\n",
    "\n",
    "hitters.head()"
   ]
  },
  {
   "cell_type": "code",
   "execution_count": 74,
   "metadata": {},
   "outputs": [],
   "source": [
    "from itertools import combinations\n",
    "import statsmodels.api as sm\n",
    "\n",
    "def best_subset_for_size(size, dataframe, response):\n",
    "    \"\"\"\n",
    "    Returns the best odel from all models with k-predictors (lowest RSS).\n",
    "    \"\"\"\n",
    "    results = {}\n",
    "    features = dataframe.drop(response, axis = 1).columns\n",
    "    subsets = list(combinations(features, size))\n",
    "    for subset in subsets:\n",
    "        subset = list(subset)\n",
    "        score, model = calculate_model(subset, response, dataframe)\n",
    "        if score in results.keys():\n",
    "            results[score].append(model)\n",
    "        else:\n",
    "            results[score] = [model] \n",
    "\n",
    "    return results[min(results.keys())]\n",
    "\n",
    "def calculate_model(subset, response, dataframe):\n",
    "    \"\"\"\n",
    "    Constructs Linear Model Regression of response onto feature and calculates RSSs.\n",
    "    \"\"\"\n",
    "    X = sm.add_constant(dataframe[subset])\n",
    "    y = dataframe[response]\n",
    "\n",
    "    model = sm.OLS(y,X).fit()\n",
    "    score = model.ssr\n",
    "    return score, model\n",
    "\n",
    "def best_subset_selection(dataframe, response):\n",
    "    \"\"\"\n",
    "    Does best subset selection.\n",
    "    \"\"\"\n",
    "    best_dict = {}\n",
    "    for size in range(1,dataframe.shape[1]):\n",
    "        result = best_subset_for_size(size, dataframe, response)\n",
    "        best_dict[size] = result\n",
    "\n",
    "    return best_dict\n",
    "\n",
    "best_dict = best_subset_selection(dataframe = hitters, response =\"Salary\")\n"
   ]
  },
  {
   "source": [
    "We now build a dataframe with our model results:"
   ],
   "cell_type": "markdown",
   "metadata": {}
  },
  {
   "cell_type": "code",
   "execution_count": null,
   "metadata": {},
   "outputs": [],
   "source": []
  }
 ]
}