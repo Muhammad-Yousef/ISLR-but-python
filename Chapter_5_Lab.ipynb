{
 "metadata": {
  "language_info": {
   "codemirror_mode": {
    "name": "ipython",
    "version": 3
   },
   "file_extension": ".py",
   "mimetype": "text/x-python",
   "name": "python",
   "nbconvert_exporter": "python",
   "pygments_lexer": "ipython3",
   "version": "3.8.5-final"
  },
  "orig_nbformat": 2,
  "kernelspec": {
   "name": "python3",
   "display_name": "Python 3",
   "language": "python"
  }
 },
 "nbformat": 4,
 "nbformat_minor": 2,
 "cells": [
  {
   "cell_type": "code",
   "execution_count": 47,
   "metadata": {},
   "outputs": [],
   "source": [
    "import numpy as np\n",
    "import pandas as pd\n",
    "from matplotlib import pyplot as plt\n",
    "from sklearn.model_selection import train_test_split, cross_val_score\n",
    "from sklearn.linear_model import LinearRegression\n",
    "from sklearn.metrics import mean_squared_error\n",
    "from sklearn.preprocessing import PolynomialFeatures\n",
    "%matplotlib inline"
   ]
  },
  {
   "source": [
    "### 5.3.1 The Validation Set Approach\n",
    "We explore the use of the validation set approach in order to estimate the\n",
    "test error rates that result from fitting various linear models on the Auto\n",
    "data set.\n",
    "Before we begin, we use the set.seed() function in order to set a seed for seed\n",
    "R’s random number generator, so that the reader of this book will obtain\n",
    "precisely the same results as those shown below. It is generally a good idea\n",
    "to set a random seed when performing an analysis such as cross-validation\n",
    "that contains an element of randomness, so that the results obtained can\n",
    "be reproduced precisely at a later time.\n",
    "We begin by using the sample() function to split the set of observations sample() into two halves, by selecting a random subset of 196 observations out of\n",
    "the original 392 observations. We refer to these observations as the training\n",
    "set."
   ],
   "cell_type": "markdown",
   "metadata": {}
  },
  {
   "cell_type": "code",
   "execution_count": 42,
   "metadata": {},
   "outputs": [],
   "source": [
    "# Load dataset\n",
    "# We later want to fit using horsepower, so remove its rows with NA\n",
    "auto = pd.read_csv('Data/Auto.csv', na_values='?')\n",
    "auto = auto.dropna()\n",
    "\n",
    "X = np.array(auto[\"horsepower\"]).reshape(-1, 1)\n",
    "Y = np.array(auto[\"mpg\"]).reshape(-1, 1)\n",
    "\n",
    "# Set the random seed\n",
    "np.random.seed(1)\n",
    "\n",
    "# Train and test set\n",
    "X_train, X_test, y_train, y_test = train_test_split(X, Y, test_size=0.5, random_state=0)"
   ]
  },
  {
   "source": [
    "We then fit a linear regression using only the observations corresponding to the training set, and calcualte the MSE on the test set."
   ],
   "cell_type": "markdown",
   "metadata": {}
  },
  {
   "cell_type": "code",
   "execution_count": 43,
   "metadata": {},
   "outputs": [
    {
     "output_type": "display_data",
     "data": {
      "text/plain": "'The MSE for linear regression is 23.61661706966988'"
     },
     "metadata": {}
    }
   ],
   "source": [
    "model = LinearRegression().fit(X_train, y_train)\n",
    "predictions = model.predict(X_test)\n",
    "\n",
    "mse = mean_squared_error(y_test, predictions)\n",
    "display(f\"The MSE for linear regression is {mse}\")"
   ]
  },
  {
   "source": [
    "Therefore, the estimated test MSE for the linear regression fit is 23.61. We can also estimate the test error for the quadratic and cubic regressions."
   ],
   "cell_type": "markdown",
   "metadata": {}
  },
  {
   "cell_type": "code",
   "execution_count": 38,
   "metadata": {},
   "outputs": [
    {
     "output_type": "display_data",
     "data": {
      "text/plain": "'The MSE for quadratic regression is 18.763031346897684'"
     },
     "metadata": {}
    },
    {
     "output_type": "execute_result",
     "data": {
      "text/plain": [
       "'The MSE for cubic regression is 18.79694163262019'"
      ]
     },
     "metadata": {},
     "execution_count": 38
    }
   ],
   "source": [
    "# Quadratic regression\n",
    "poly2 = PolynomialFeatures(2)\n",
    "\n",
    "X_v2= poly2.fit_transform(X)\n",
    "\n",
    "X_train_v2, X_test_v2, y_train_v2, y_test_v2 = train_test_split(X_v2, Y, test_size=0.5, random_state=0)\n",
    "\n",
    "model = LinearRegression().fit(X_train_v2, y_train_v2)\n",
    "predictions_v2 = model.predict(X_test_v2)\n",
    "\n",
    "mse_v2 = mean_squared_error(y_test_v2, predictions_v2)\n",
    "display(f\"The MSE for quadratic regression is {mse_v2}\")\n",
    "\n",
    "# Cubic regression\n",
    "\n",
    "poly3 = PolynomialFeatures(3)\n",
    "\n",
    "X_v3= poly3.fit_transform(X)\n",
    "\n",
    "X_train_v3, X_test_v3, y_train_v3, y_test_v3 = train_test_split(X_v3, Y, test_size=0.5, random_state=0)\n",
    "\n",
    "model = LinearRegression().fit(X_train_v3, y_train_v3)\n",
    "predictions_v3 = model.predict(X_test_v3)\n",
    "\n",
    "mse_v3 = mean_squared_error(y_test_v3, predictions_v3)\n",
    "f\"The MSE for cubic regression is {mse_v3}\"\n"
   ]
  },
  {
   "source": [
    "These error rates are 18.76 and 18.79, respectively. If we choose a different\n",
    "training set instead, then we will obtain somewhat different errors on the\n",
    "validation set."
   ],
   "cell_type": "markdown",
   "metadata": {}
  },
  {
   "cell_type": "code",
   "execution_count": 45,
   "metadata": {},
   "outputs": [
    {
     "output_type": "display_data",
     "data": {
      "text/plain": "'The MSE for linear regression is 20.755407959228602'"
     },
     "metadata": {}
    },
    {
     "output_type": "display_data",
     "data": {
      "text/plain": "'The MSE for quadratic regression is 16.945106759516108'"
     },
     "metadata": {}
    },
    {
     "output_type": "execute_result",
     "data": {
      "text/plain": [
       "'The MSE for cubic regression is 16.974378328026475'"
      ]
     },
     "metadata": {},
     "execution_count": 45
    }
   ],
   "source": [
    "# Linear regression\n",
    "X_train, X_test, y_train, y_test = train_test_split(X, Y, test_size=0.5, random_state=3)\n",
    "model = LinearRegression().fit(X_train, y_train)\n",
    "predictions = model.predict(X_test)\n",
    "mse = mean_squared_error(y_test, predictions)\n",
    "display(f\"The MSE for linear regression is {mse}\")\n",
    "# Quadratic regression\n",
    "poly2 = PolynomialFeatures(2, include_bias = False)\n",
    "X_v2= poly2.fit_transform(X)\n",
    "X_train_v2, X_test_v2, y_train_v2, y_test_v2 = train_test_split(X_v2, Y, test_size=0.5, random_state=3)\n",
    "model = LinearRegression().fit(X_train_v2, y_train_v2)\n",
    "predictions_v2 = model.predict(X_test_v2)\n",
    "mse_v2 = mean_squared_error(y_test_v2, predictions_v2)\n",
    "display(f\"The MSE for quadratic regression is {mse_v2}\")\n",
    "# Cubic regression\n",
    "poly3 = PolynomialFeatures(3, include_bias = False)\n",
    "X_v3= poly3.fit_transform(X)\n",
    "X_train_v3, X_test_v3, y_train_v3, y_test_v3 = train_test_split(X_v3, Y, test_size=0.5, random_state=3)\n",
    "model = LinearRegression().fit(X_train_v3, y_train_v3)\n",
    "predictions_v3 = model.predict(X_test_v3)\n",
    "mse_v3 = mean_squared_error(y_test_v3, predictions_v3)\n",
    "f\"The MSE for cubic regression is {mse_v3}\"\n"
   ]
  },
  {
   "source": [
    "Using this split of the observations into a training set and a validation\n",
    "set, we find that the validation set error rates for the models with linear,\n",
    "quadratic, and cubic terms are 20.75, 16.94, and 16.97, respectively.\n",
    "These results are consistent with our previous findings: a model that\n",
    "predicts mpg using a quadratic function of horsepower performs better than\n",
    "a model that involves only a linear function of horsepower, and there is\n",
    "little evidence in favor of a model that uses a cubic function of horsepower."
   ],
   "cell_type": "markdown",
   "metadata": {}
  },
  {
   "source": [
    "### 5.3.2 Leave-One-Out Cross-Validation\n",
    "The LOOCV estimate can be automatically computed for any generalized\n",
    "linear model using sklearn."
   ],
   "cell_type": "markdown",
   "metadata": {}
  },
  {
   "cell_type": "code",
   "execution_count": 55,
   "metadata": {},
   "outputs": [
    {
     "output_type": "display_data",
     "data": {
      "text/plain": "'The MSE for degree 1 regression is -24.231513517929226'"
     },
     "metadata": {}
    },
    {
     "output_type": "display_data",
     "data": {
      "text/plain": "'The MSE for degree 2 regression is -19.24821312448967'"
     },
     "metadata": {}
    },
    {
     "output_type": "display_data",
     "data": {
      "text/plain": "'The MSE for degree 3 regression is -19.334984064029197'"
     },
     "metadata": {}
    },
    {
     "output_type": "display_data",
     "data": {
      "text/plain": "'The MSE for degree 4 regression is -19.424430310319195'"
     },
     "metadata": {}
    },
    {
     "output_type": "display_data",
     "data": {
      "text/plain": "'The MSE for degree 5 regression is -19.03321350576735'"
     },
     "metadata": {}
    }
   ],
   "source": [
    "def cv_poly_reg(degree, X, Y):\n",
    "    poly = PolynomialFeatures(degree = degree, include_bias = False)\n",
    "    X = poly.fit_transform(X)\n",
    "    model = LinearRegression()\n",
    "    scores = cross_val_score(model, X, Y, cv= X.shape[0], scoring = \"neg_mean_squared_error\" )\n",
    "    mse = np.mean(scores)\n",
    "    display(f\"The MSE for degree {degree} regression is {mse}\")\n",
    "\n",
    "for degree in range(1,6):\n",
    "    cv_poly_reg(degree, X, Y)"
   ]
  },
  {
   "source": [
    "we see a sharp drop in the estimated test MSE between\n",
    "the linear and quadratic fits, but then no clear improvement from using\n",
    "higher-order polynomials"
   ],
   "cell_type": "markdown",
   "metadata": {}
  },
  {
   "cell_type": "code",
   "execution_count": null,
   "metadata": {},
   "outputs": [],
   "source": [
    "### 5.3.3 k-Fold Cross-Validation\n",
    "\n",
    "The same functions can also be used to implement k-fold CV. Below we use k = 10, a common choice for k, on the Auto data set. We simply copy the lines of code above using 10 folds instead of n folds in the cross-validation to be explicit."
   ]
  }
 ]
}