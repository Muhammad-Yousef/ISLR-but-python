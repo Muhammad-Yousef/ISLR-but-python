{
 "metadata": {
  "language_info": {
   "codemirror_mode": {
    "name": "ipython",
    "version": 3
   },
   "file_extension": ".py",
   "mimetype": "text/x-python",
   "name": "python",
   "nbconvert_exporter": "python",
   "pygments_lexer": "ipython3",
   "version": "3.8.5-final"
  },
  "orig_nbformat": 2,
  "kernelspec": {
   "name": "python3",
   "display_name": "Python 3",
   "language": "python"
  }
 },
 "nbformat": 4,
 "nbformat_minor": 2,
 "cells": [
  {
   "cell_type": "code",
   "execution_count": 5,
   "metadata": {},
   "outputs": [
    {
     "output_type": "error",
     "ename": "ImportError",
     "evalue": "cannot import name 'cross_validation' from 'sklearn' (/home/szantamano/.local/lib/python3.8/site-packages/sklearn/__init__.py)",
     "traceback": [
      "\u001b[0;31m---------------------------------------------------------------------------\u001b[0m",
      "\u001b[0;31mImportError\u001b[0m                               Traceback (most recent call last)",
      "\u001b[0;32m<ipython-input-5-afabbb553d5f>\u001b[0m in \u001b[0;36m<module>\u001b[0;34m\u001b[0m\n\u001b[1;32m      6\u001b[0m \u001b[0;32mfrom\u001b[0m \u001b[0msklearn\u001b[0m\u001b[0;34m.\u001b[0m\u001b[0mmetrics\u001b[0m \u001b[0;32mimport\u001b[0m \u001b[0mmean_squared_error\u001b[0m\u001b[0;34m\u001b[0m\u001b[0;34m\u001b[0m\u001b[0m\n\u001b[1;32m      7\u001b[0m \u001b[0;32mfrom\u001b[0m \u001b[0msklearn\u001b[0m\u001b[0;34m.\u001b[0m\u001b[0mpreprocessing\u001b[0m \u001b[0;32mimport\u001b[0m \u001b[0mPolynomialFeatures\u001b[0m\u001b[0;34m\u001b[0m\u001b[0;34m\u001b[0m\u001b[0m\n\u001b[0;32m----> 8\u001b[0;31m \u001b[0;32mfrom\u001b[0m \u001b[0msklearn\u001b[0m \u001b[0;32mimport\u001b[0m \u001b[0mcross_validation\u001b[0m\u001b[0;34m\u001b[0m\u001b[0;34m\u001b[0m\u001b[0m\n\u001b[0m\u001b[1;32m      9\u001b[0m \u001b[0mget_ipython\u001b[0m\u001b[0;34m(\u001b[0m\u001b[0;34m)\u001b[0m\u001b[0;34m.\u001b[0m\u001b[0mrun_line_magic\u001b[0m\u001b[0;34m(\u001b[0m\u001b[0;34m'matplotlib'\u001b[0m\u001b[0;34m,\u001b[0m \u001b[0;34m'inline'\u001b[0m\u001b[0;34m)\u001b[0m\u001b[0;34m\u001b[0m\u001b[0;34m\u001b[0m\u001b[0m\n",
      "\u001b[0;31mImportError\u001b[0m: cannot import name 'cross_validation' from 'sklearn' (/home/szantamano/.local/lib/python3.8/site-packages/sklearn/__init__.py)"
     ]
    }
   ],
   "source": [
    "import numpy as np\n",
    "import pandas as pd\n",
    "from matplotlib import pyplot as plt\n",
    "from sklearn.model_selection import train_test_split, cross_val_score\n",
    "from sklearn.linear_model import LinearRegression\n",
    "from sklearn.metrics import mean_squared_error\n",
    "from sklearn.preprocessing import PolynomialFeatures\n",
    "from sklearn import cross_validation\n",
    "%matplotlib inline"
   ]
  },
  {
   "source": [
    "### 5.3.1 The Validation Set Approach\n",
    "We explore the use of the validation set approach in order to estimate the\n",
    "test error rates that result from fitting various linear models on the Auto\n",
    "data set.\n",
    "Before we begin, we use the set.seed() function in order to set a seed for seed\n",
    "R’s random number generator, so that the reader of this book will obtain\n",
    "precisely the same results as those shown below. It is generally a good idea\n",
    "to set a random seed when performing an analysis such as cross-validation\n",
    "that contains an element of randomness, so that the results obtained can\n",
    "be reproduced precisely at a later time.\n",
    "We begin by using the sample() function to split the set of observations sample() into two halves, by selecting a random subset of 196 observations out of\n",
    "the original 392 observations. We refer to these observations as the training\n",
    "set."
   ],
   "cell_type": "markdown",
   "metadata": {}
  },
  {
   "cell_type": "code",
   "execution_count": 3,
   "metadata": {},
   "outputs": [],
   "source": [
    "# Load dataset\n",
    "# We later want to fit using horsepower, so remove its rows with NA\n",
    "auto = pd.read_csv('Data/Auto.csv', na_values='?')\n",
    "auto = auto.dropna()\n",
    "\n",
    "X = np.array(auto[\"horsepower\"]).reshape(-1, 1)\n",
    "Y = np.array(auto[\"mpg\"]).reshape(-1, 1)\n",
    "\n",
    "# Set the random seed\n",
    "np.random.seed(1)\n",
    "\n",
    "# Train and test set\n",
    "X_train, X_test, y_train, y_test = train_test_split(X, Y, test_size=0.5, random_state=0)"
   ]
  },
  {
   "source": [
    "We then fit a linear regression using only the observations corresponding to the training set, and calcualte the MSE on the test set."
   ],
   "cell_type": "markdown",
   "metadata": {}
  },
  {
   "cell_type": "code",
   "execution_count": 4,
   "metadata": {},
   "outputs": [
    {
     "output_type": "display_data",
     "data": {
      "text/plain": "'The MSE for linear regression is 23.61661706966988'"
     },
     "metadata": {}
    }
   ],
   "source": [
    "model = LinearRegression().fit(X_train, y_train)\n",
    "predictions = model.predict(X_test)\n",
    "\n",
    "mse = mean_squared_error(y_test, predictions)\n",
    "display(f\"The MSE for linear regression is {mse}\")"
   ]
  },
  {
   "source": [
    "Therefore, the estimated test MSE for the linear regression fit is 23.61. We can also estimate the test error for the quadratic and cubic regressions."
   ],
   "cell_type": "markdown",
   "metadata": {}
  },
  {
   "cell_type": "code",
   "execution_count": 5,
   "metadata": {},
   "outputs": [
    {
     "output_type": "display_data",
     "data": {
      "text/plain": "'The MSE for quadratic regression is 18.763031346897684'"
     },
     "metadata": {}
    },
    {
     "output_type": "execute_result",
     "data": {
      "text/plain": [
       "'The MSE for cubic regression is 18.79694163262019'"
      ]
     },
     "metadata": {},
     "execution_count": 5
    }
   ],
   "source": [
    "# Quadratic regression\n",
    "poly2 = PolynomialFeatures(2)\n",
    "\n",
    "X_v2= poly2.fit_transform(X)\n",
    "\n",
    "X_train_v2, X_test_v2, y_train_v2, y_test_v2 = train_test_split(X_v2, Y, test_size=0.5, random_state=0)\n",
    "\n",
    "model = LinearRegression().fit(X_train_v2, y_train_v2)\n",
    "predictions_v2 = model.predict(X_test_v2)\n",
    "\n",
    "mse_v2 = mean_squared_error(y_test_v2, predictions_v2)\n",
    "display(f\"The MSE for quadratic regression is {mse_v2}\")\n",
    "\n",
    "# Cubic regression\n",
    "\n",
    "poly3 = PolynomialFeatures(3)\n",
    "\n",
    "X_v3= poly3.fit_transform(X)\n",
    "\n",
    "X_train_v3, X_test_v3, y_train_v3, y_test_v3 = train_test_split(X_v3, Y, test_size=0.5, random_state=0)\n",
    "\n",
    "model = LinearRegression().fit(X_train_v3, y_train_v3)\n",
    "predictions_v3 = model.predict(X_test_v3)\n",
    "\n",
    "mse_v3 = mean_squared_error(y_test_v3, predictions_v3)\n",
    "f\"The MSE for cubic regression is {mse_v3}\"\n"
   ]
  },
  {
   "source": [
    "These error rates are 18.76 and 18.79, respectively. If we choose a different\n",
    "training set instead, then we will obtain somewhat different errors on the\n",
    "validation set."
   ],
   "cell_type": "markdown",
   "metadata": {}
  },
  {
   "cell_type": "code",
   "execution_count": 6,
   "metadata": {},
   "outputs": [
    {
     "output_type": "display_data",
     "data": {
      "text/plain": "'The MSE for linear regression is 20.755407959228602'"
     },
     "metadata": {}
    },
    {
     "output_type": "display_data",
     "data": {
      "text/plain": "'The MSE for quadratic regression is 16.945106759516108'"
     },
     "metadata": {}
    },
    {
     "output_type": "execute_result",
     "data": {
      "text/plain": [
       "'The MSE for cubic regression is 16.974378328026475'"
      ]
     },
     "metadata": {},
     "execution_count": 6
    }
   ],
   "source": [
    "# Linear regression\n",
    "X_train, X_test, y_train, y_test = train_test_split(X, Y, test_size=0.5, random_state=3)\n",
    "model = LinearRegression().fit(X_train, y_train)\n",
    "predictions = model.predict(X_test)\n",
    "mse = mean_squared_error(y_test, predictions)\n",
    "display(f\"The MSE for linear regression is {mse}\")\n",
    "# Quadratic regression\n",
    "poly2 = PolynomialFeatures(2, include_bias = False)\n",
    "X_v2= poly2.fit_transform(X)\n",
    "X_train_v2, X_test_v2, y_train_v2, y_test_v2 = train_test_split(X_v2, Y, test_size=0.5, random_state=3)\n",
    "model = LinearRegression().fit(X_train_v2, y_train_v2)\n",
    "predictions_v2 = model.predict(X_test_v2)\n",
    "mse_v2 = mean_squared_error(y_test_v2, predictions_v2)\n",
    "display(f\"The MSE for quadratic regression is {mse_v2}\")\n",
    "# Cubic regression\n",
    "poly3 = PolynomialFeatures(3, include_bias = False)\n",
    "X_v3= poly3.fit_transform(X)\n",
    "X_train_v3, X_test_v3, y_train_v3, y_test_v3 = train_test_split(X_v3, Y, test_size=0.5, random_state=3)\n",
    "model = LinearRegression().fit(X_train_v3, y_train_v3)\n",
    "predictions_v3 = model.predict(X_test_v3)\n",
    "mse_v3 = mean_squared_error(y_test_v3, predictions_v3)\n",
    "f\"The MSE for cubic regression is {mse_v3}\"\n"
   ]
  },
  {
   "source": [
    "Using this split of the observations into a training set and a validation\n",
    "set, we find that the validation set error rates for the models with linear,\n",
    "quadratic, and cubic terms are 20.75, 16.94, and 16.97, respectively.\n",
    "These results are consistent with our previous findings: a model that\n",
    "predicts mpg using a quadratic function of horsepower performs better than\n",
    "a model that involves only a linear function of horsepower, and there is\n",
    "little evidence in favor of a model that uses a cubic function of horsepower."
   ],
   "cell_type": "markdown",
   "metadata": {}
  },
  {
   "source": [
    "### 5.3.2 Leave-One-Out Cross-Validation\n",
    "The LOOCV estimate can be automatically computed for any generalized\n",
    "linear model using sklearn."
   ],
   "cell_type": "markdown",
   "metadata": {}
  },
  {
   "cell_type": "code",
   "execution_count": 7,
   "metadata": {},
   "outputs": [
    {
     "output_type": "display_data",
     "data": {
      "text/plain": "'The MSE for degree 1 regression is -24.231513517929226'"
     },
     "metadata": {}
    },
    {
     "output_type": "display_data",
     "data": {
      "text/plain": "'The MSE for degree 2 regression is -19.24821312448967'"
     },
     "metadata": {}
    },
    {
     "output_type": "display_data",
     "data": {
      "text/plain": "'The MSE for degree 3 regression is -19.334984064029197'"
     },
     "metadata": {}
    },
    {
     "output_type": "display_data",
     "data": {
      "text/plain": "'The MSE for degree 4 regression is -19.424430310319195'"
     },
     "metadata": {}
    },
    {
     "output_type": "display_data",
     "data": {
      "text/plain": "'The MSE for degree 5 regression is -19.03321350576735'"
     },
     "metadata": {}
    }
   ],
   "source": [
    "def cv_poly_reg(degree, X, Y):\n",
    "    poly = PolynomialFeatures(degree = degree, include_bias = False)\n",
    "    X = poly.fit_transform(X)\n",
    "    model = LinearRegression()\n",
    "    scores = cross_val_score(model, X, Y, cv= X.shape[0], scoring = \"neg_mean_squared_error\" )\n",
    "    mse = np.mean(scores)\n",
    "    display(f\"The MSE for degree {degree} regression is {mse}\")\n",
    "\n",
    "for degree in range(1,6):\n",
    "    cv_poly_reg(degree, X, Y)"
   ]
  },
  {
   "source": [
    "we see a sharp drop in the estimated test MSE between\n",
    "the linear and quadratic fits, but then no clear improvement from using\n",
    "higher-order polynomials"
   ],
   "cell_type": "markdown",
   "metadata": {}
  },
  {
   "source": [
    "### 5.3.3 k-Fold Cross-Validation\n",
    "\n",
    "The same functions can also be used to implement k-fold CV. Below we use k = 10, a common choice for k, on the Auto data set. We simply copy the lines of code above using 10 folds instead of n folds in the cross-validation to be explicit."
   ],
   "cell_type": "markdown",
   "metadata": {}
  },
  {
   "cell_type": "code",
   "execution_count": 8,
   "metadata": {},
   "outputs": [
    {
     "output_type": "display_data",
     "data": {
      "text/plain": "'The MSE for degree 1 regression is -27.439933652339867'"
     },
     "metadata": {}
    },
    {
     "output_type": "display_data",
     "data": {
      "text/plain": "'The MSE for degree 2 regression is -21.235840055802228'"
     },
     "metadata": {}
    },
    {
     "output_type": "display_data",
     "data": {
      "text/plain": "'The MSE for degree 3 regression is -21.33660618322802'"
     },
     "metadata": {}
    },
    {
     "output_type": "display_data",
     "data": {
      "text/plain": "'The MSE for degree 4 regression is -21.353886981979993'"
     },
     "metadata": {}
    },
    {
     "output_type": "display_data",
     "data": {
      "text/plain": "'The MSE for degree 5 regression is -20.905640019587945'"
     },
     "metadata": {}
    },
    {
     "output_type": "display_data",
     "data": {
      "text/plain": "'The MSE for degree 6 regression is -20.77902044138328'"
     },
     "metadata": {}
    },
    {
     "output_type": "display_data",
     "data": {
      "text/plain": "'The MSE for degree 7 regression is -20.98683005802863'"
     },
     "metadata": {}
    },
    {
     "output_type": "display_data",
     "data": {
      "text/plain": "'The MSE for degree 8 regression is -21.077322981225386'"
     },
     "metadata": {}
    },
    {
     "output_type": "display_data",
     "data": {
      "text/plain": "'The MSE for degree 9 regression is -21.03788551256914'"
     },
     "metadata": {}
    }
   ],
   "source": [
    "def cv_poly_reg(degree, X, Y):\n",
    "    poly = PolynomialFeatures(degree = degree, include_bias = False)\n",
    "    X = poly.fit_transform(X)\n",
    "    model = LinearRegression()\n",
    "    scores = cross_val_score(model, X, Y, cv= 10, scoring = \"neg_mean_squared_error\" )\n",
    "    mse = np.mean(scores)\n",
    "    display(f\"The MSE for degree {degree} regression is {mse}\")\n",
    "\n",
    "for degree in range(1,10):\n",
    "    cv_poly_reg(degree, X, Y)"
   ]
  },
  {
   "source": [
    "We still see little evidence that using\n",
    "cubic or higher-order polynomial terms leads to lower test error than simply\n",
    "using a quadratic fit."
   ],
   "cell_type": "markdown",
   "metadata": {}
  },
  {
   "source": [
    "### 5.3.4 The Bootstrap\n",
    "\n",
    "We illustrate the use of the bootstrap in the simple example of Section 5.2,\n",
    "as well as on an example involving estimating the accuracy of the linear\n",
    "regression model on the Auto data set.\n",
    "\n",
    "## Estimating the Accuracy of a Statistic of Interest\n",
    "One of the great advantages of the bootstrap approach is that it can be\n",
    "applied in almost all situations. No complicated mathematical calculations\n",
    "are required. Performing a bootstrap analysis entails only two steps.\n",
    "First, we must create a function that computes the statistic of interest.\n",
    "Second, perform the bootstrap by repeatedly sampling observations from the data\n",
    "set with replacement.\n",
    "The Portfolio data set in the ISLR package is described in Section 5.2.\n",
    "To illustrate the use of the bootstrap on this data, we must first create\n",
    "a function, alpha.fn(), which takes as input the (X, Y ) data as well as\n",
    "a vector indicating which observations should be used to estimate α. The\n",
    "function then outputs the estimate for α based on the selected observations.\n"
   ],
   "cell_type": "markdown",
   "metadata": {}
  },
  {
   "cell_type": "code",
   "execution_count": 8,
   "metadata": {},
   "outputs": [
    {
     "output_type": "stream",
     "name": "stdout",
     "text": [
      "\n 100 Rows\n"
     ]
    },
    {
     "output_type": "execute_result",
     "data": {
      "text/plain": [
       "          X         Y\n",
       "1 -0.895251 -0.234924\n",
       "2 -1.562454 -0.885176\n",
       "3 -0.417090  0.271888\n",
       "4  1.044356 -0.734198\n",
       "5 -0.315568  0.841983"
      ],
      "text/html": "<div>\n<style scoped>\n    .dataframe tbody tr th:only-of-type {\n        vertical-align: middle;\n    }\n\n    .dataframe tbody tr th {\n        vertical-align: top;\n    }\n\n    .dataframe thead th {\n        text-align: right;\n    }\n</style>\n<table border=\"1\" class=\"dataframe\">\n  <thead>\n    <tr style=\"text-align: right;\">\n      <th></th>\n      <th>X</th>\n      <th>Y</th>\n    </tr>\n  </thead>\n  <tbody>\n    <tr>\n      <th>1</th>\n      <td>-0.895251</td>\n      <td>-0.234924</td>\n    </tr>\n    <tr>\n      <th>2</th>\n      <td>-1.562454</td>\n      <td>-0.885176</td>\n    </tr>\n    <tr>\n      <th>3</th>\n      <td>-0.417090</td>\n      <td>0.271888</td>\n    </tr>\n    <tr>\n      <th>4</th>\n      <td>1.044356</td>\n      <td>-0.734198</td>\n    </tr>\n    <tr>\n      <th>5</th>\n      <td>-0.315568</td>\n      <td>0.841983</td>\n    </tr>\n  </tbody>\n</table>\n</div>"
     },
     "metadata": {},
     "execution_count": 8
    }
   ],
   "source": [
    "# load the portfolio data set\n",
    "portfolio = pd.read_csv('Data/Portfolio.csv', index_col=0)\n",
    "print('\\n',len(portfolio),'Rows')\n",
    "portfolio.head()"
   ]
  },
  {
   "cell_type": "code",
   "execution_count": 10,
   "metadata": {},
   "outputs": [],
   "source": [
    "\n",
    "\n",
    "def estimate_alpha(X, y, index):\n",
    "    X= X[index]\n",
    "    y = y[index]\n",
    "    return((np.var(y)-np.cov(X,y)[0,1])/(np.var(X)+np.var(y)-2*np.cov(X, y)[0,1]))\n"
   ]
  },
  {
   "source": [
    "This function returns, or outputs, an estimate for α based on applying\n",
    "(5.7) to the observations indexed by the argument index. For instance, the\n",
    "following command estimates α using all 100 observations."
   ],
   "cell_type": "markdown",
   "metadata": {}
  },
  {
   "cell_type": "code",
   "execution_count": 11,
   "metadata": {},
   "outputs": [
    {
     "output_type": "execute_result",
     "data": {
      "text/plain": [
       "0.5766511516104116"
      ]
     },
     "metadata": {},
     "execution_count": 11
    }
   ],
   "source": [
    "estimate_alpha(portfolio.X, portfolio.Y, range(1,101))"
   ]
  },
  {
   "source": [
    "The next command uses the sample() function to randomly select 100 observations from the range 1 to 100, with replacement. This is equivalent to constructing a new bootstrap data set and recomputing $\\hat\\alpha$ based on the new data set."
   ],
   "cell_type": "markdown",
   "metadata": {}
  },
  {
   "cell_type": "code",
   "execution_count": 12,
   "metadata": {},
   "outputs": [
    {
     "output_type": "execute_result",
     "data": {
      "text/plain": [
       "0.560336658007497"
      ]
     },
     "metadata": {},
     "execution_count": 12
    }
   ],
   "source": [
    "np.random.seed(0)\n",
    "index = np.random.choice(range(1,101), 100, replace=True)\n",
    "estimate_alpha(portfolio.X, portfolio.Y, index)"
   ]
  },
  {
   "source": [
    "We can implement a bootstrap analysis by performing this command many\n",
    "times, recording all of the corresponding estimates for α, and computing the resulting standard deviation."
   ],
   "cell_type": "markdown",
   "metadata": {}
  },
  {
   "cell_type": "code",
   "execution_count": 20,
   "metadata": {},
   "outputs": [
    {
     "output_type": "display_data",
     "data": {
      "text/plain": "'Our mean estimate is 0.5793949782690855'"
     },
     "metadata": {}
    },
    {
     "output_type": "display_data",
     "data": {
      "text/plain": "'Standard deviation for our estimate is:0.09415316225687384'"
     },
     "metadata": {}
    },
    {
     "output_type": "execute_result",
     "data": {
      "text/plain": [
       "0.09415316225687384"
      ]
     },
     "metadata": {},
     "execution_count": 20
    }
   ],
   "source": [
    "def do_bootstrap(portfolio, times):\n",
    "    results = []\n",
    "    for t in range(times):\n",
    "       index = np.random.choice(range(1,101), 100, replace=True)\n",
    "       result = estimate_alpha(portfolio.X, portfolio.Y, index)\n",
    "       results.append(result)\n",
    "    \n",
    "    results = np.array(results)\n",
    "    display(f\"Our mean estimate is {np.mean(results)}\")\n",
    "    display(f\"Standard deviation for our estimate is:{np.std(results)}\")\n",
    "    return np.std(results)\n",
    "\n",
    "do_bootstrap(portfolio, 1000)"
   ]
  },
  {
   "cell_type": "code",
   "execution_count": null,
   "metadata": {},
   "outputs": [],
   "source": []
  }
 ]
}